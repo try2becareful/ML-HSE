{
 "cells": [
  {
   "cell_type": "markdown",
   "metadata": {},
   "source": [
    "# Машинное обучение, ФКН ВШЭ\n",
    "\n",
    "## Практическое задание 3. Градиентный спуск своими руками\n",
    "\n",
    "### Общая информация\n",
    "Дата выдачи: **12.10.2021**\n",
    "\n",
    "Мягкий дедлайн: **27.10.21 23:59** (за каждый день просрочки снимается 1 балл)\n",
    "\n",
    "Жесткий дедлайн: **29.10.21 23:59**"
   ]
  },
  {
   "cell_type": "markdown",
   "metadata": {},
   "source": [
    "### О задании\n",
    "\n",
    "В данном задании необходимо реализовать обучение линейной регрессии с помощью различных вариантов градиентного спуска.\n",
    "\n",
    "\n",
    "### Оценивание и штрафы\n",
    "Каждая из задач имеет определенную «стоимость» (указана в скобках около задачи). Максимально допустимая оценка за работу — 10 баллов + 2 балла бонус.\n",
    "\n",
    "Сдавать задание после указанного срока сдачи нельзя. При выставлении неполного балла за задание в связи с наличием ошибок на усмотрение проверяющего предусмотрена возможность исправить работу на указанных в ответном письме условиях.\n",
    "\n",
    "Задание выполняется самостоятельно. «Похожие» решения считаются плагиатом и все задействованные студенты (в том числе те, у кого списали) не могут получить за него больше 0 баллов (подробнее о плагиате см. на странице курса). Если вы нашли решение какого-то из заданий (или его часть) в открытом источнике, необходимо указать ссылку на этот источник в отдельном блоке в конце вашей работы (скорее всего вы будете не единственным, кто это нашел, поэтому чтобы исключить подозрение в плагиате, необходима ссылка на источник).\n",
    "\n",
    "Неэффективная реализация кода может негативно отразиться на оценке.\n",
    "Также оценка может быть снижена за плохо читаемый код и плохо считываемые диаграммы.\n",
    "\n",
    "Все ответы должны сопровождаться кодом или комментариями о том, как они были получены.\n",
    "\n",
    "\n",
    "### Формат сдачи\n",
    "Задания сдаются через систему Anytask. Инвайт можно найти на странице курса. Присылать необходимо ноутбук с выполненным заданием. Сам ноутбук называйте в формате homework-practice-03-gd-Username.ipynb, где Username — ваша фамилия.\n",
    "\n",
    "Для удобства проверки самостоятельно посчитайте свою максимальную оценку (исходя из набора решенных задач) и укажите ниже.\n",
    "\n",
    "**Оценка**: ..."
   ]
  },
  {
   "cell_type": "markdown",
   "metadata": {},
   "source": [
    "Напомним, что на лекциях и семинарах мы разбирали некоторые подходы к оптимизации функционалов по параметрам. В частности, был рассмотрен градиентный спуск и различные подходы к его реализации — полный градиентный спуск, стохастический градиентный спуск, метод импульса и другие. В качестве модели у нас будет выступать линейная регрессия.\n",
    "\n",
    "В этом домашнем задании вам предстоит реализовать 4 различных вариации градиентного спуска, написать свою реализацию линейной регресии, сравнить методы градиентного спуска между собой на реальных данных и ещё много чего веселого и интересного!"
   ]
  },
  {
   "cell_type": "markdown",
   "metadata": {},
   "source": [
    "## Задание 1. Реализация градиентного спуска (3.5 балла)\n",
    "\n",
    "В этом задании вам предстоит написать собственные реализации различных подходов к градиентному спуску с опорой на подготовленные шаблоны в файле `descents.py`.\n",
    "\n",
    "**Все реализуемые методы должны быть векторизованы!**"
   ]
  },
  {
   "cell_type": "markdown",
   "metadata": {},
   "source": [
    "### Лирическое-теоретическое отступление № 1\n",
    "\n",
    "Основное свойство антиградиента &ndash; он указывает в сторону наискорейшего убывания функции в данной точке. Соответственно, будет логично стартовать из некоторой точки, сдвинуться в сторону антиградиента,\n",
    "пересчитать антиградиент и снова сдвинуться в его сторону и т.д. Запишем это более формально.\n",
    "\n",
    "Пусть $w_0$ &ndash; начальный набор параметров (например, нулевой или сгенерированный из некоторого\n",
    "случайного распределения). Тогда ванильный градиентный спуск состоит в повторении следующих шагов до сходимости:\n",
    "\n",
    "$$\n",
    "    w_{k + 1} = w_{k} - \\eta_{k} \\nabla_{w} Q(w_{k}).\n",
    "$$"
   ]
  },
  {
   "cell_type": "markdown",
   "metadata": {},
   "source": [
    "### Лирическое-теоретическое отступление № 2\n",
    "\n",
    "На семинаре про [матрично-векторное дифференцирование](https://github.com/esokolov/ml-course-hse/blob/master/2021-fall/seminars/sem03-vector-diff.pdf) вы должны были обсуждать дифференцирование функции потерь MSE в матричном виде.\n",
    "\n",
    "### Задание 1.0. Градиент MSE в матричном виде (0 баллов).\n",
    "\n",
    "Напомним, что функция потерь MSE записывается в матричном виде как:\n",
    "\n",
    "$$\n",
    "    Q(w) = \\dfrac{1}{\\ell} \\left( y - Xw \\right)^T \\left( y - Xw \\right)\n",
    "$$\n",
    "\n",
    "Выпишите ниже (подсмотрев в семинар или решив самостоятельно) градиент для функции потерь MSE в матричном виде."
   ]
  },
  {
   "cell_type": "markdown",
   "metadata": {},
   "source": [
    "$$\\nabla Q(w) = 2X^T(Xw - y).$$"
   ]
  },
  {
   "cell_type": "markdown",
   "metadata": {},
   "source": [
    "### Задание 1.1. Родительский класс BaseDescent (0.5 балла).\n",
    "\n",
    "Реализуйте функции `calc_loss` (вычисление MSE для переданных $x$ и $y$) и `predict` (предсказание $y_{pred}$ для переданных $x$) в классе `BaseDescent`.\n",
    "\n",
    "Все вычисления должны быть векторизованы."
   ]
  },
  {
   "cell_type": "markdown",
   "metadata": {},
   "source": [
    "ID contest 55535561"
   ]
  },
  {
   "cell_type": "markdown",
   "metadata": {},
   "source": [
    "### Задание 1.2. Полный градиентный спуск VanillaGradientDescent (0.5 балла).\n",
    "\n",
    "Реализуйте полный градиентный спуск заполнив пропуски в классе `VanillaGradientDescent` в файле `descents.py`. Для вычисления градиента используйте формулу выше. Шаг оптимизации:\n",
    "\n",
    "$$\n",
    "    w_{k + 1} = w_{k} - \\eta_{k} \\nabla_{w} Q(w_{k}).\n",
    "$$\n",
    "\n",
    "Здесь и далее функция `update_weights` должна возвращать разницу между $w_{k + 1}$ и $w_{k}$: $\\quad w_{k + 1} - w_{k} = -\\eta_{k} \\nabla_{w} Q(w_{k})$.\n",
    "\n",
    "Во всех методах градиентного спуска мы будем использовать следующую формулу для длины шага:\n",
    "\n",
    "$$\n",
    "    \\eta_{k} = \\lambda \\left(\\dfrac{s_0}{s_0 + k}\\right)^p\n",
    "$$\n",
    "\n",
    "На практике достаточно настроить параметр $\\lambda$, а остальным выставить параметры по умолчанию: $s_0 = 1, \\, p = 0.5.$"
   ]
  },
  {
   "cell_type": "markdown",
   "metadata": {},
   "source": [
    "ID contest 55535561"
   ]
  },
  {
   "cell_type": "markdown",
   "metadata": {},
   "source": [
    "### Лирическое-теоретическое отступление № 3\n",
    "\n",
    "Как правило, в задачах машинного обучения функционал $Q(w)$ представим в виде суммы $\\ell$ функций:\n",
    "\n",
    "$$\n",
    "    Q(w)\n",
    "    =\n",
    "    \\frac{1}{\\ell}\n",
    "    \\sum_{i = 1}^{\\ell}\n",
    "        q_i(w).\n",
    "$$\n",
    "\n",
    "В нашем домашнем задании отдельные функции $q_i(w)$ соответствуют ошибкам на отдельных объектах.\n",
    "\n",
    "Проблема метода градиентного спуска состоит в том, что на каждом шаге необходимо вычислять градиент всей суммы (будем его называть полным градиентом):\n",
    "\n",
    "$$\n",
    "    \\nabla_w Q(w)\n",
    "    =\n",
    "    \\frac{1}{\\ell}\n",
    "    \\sum_{i = 1}^{\\ell}\n",
    "        \\nabla_w q_i(w).\n",
    "$$\n",
    "\n",
    "Это может быть очень трудоёмко при больших размерах выборки. В то же время точное вычисление градиента может быть не так уж необходимо &ndash; как правило, мы делаем не очень большие шаги в сторону антиградиента, и наличие в нём неточностей не должно сильно сказаться на общей траектории.\n",
    "\n",
    "Оценить градиент суммы функций можно средним градиентов случайно взятого подмножества функций:\n",
    "\n",
    "$$\n",
    "    \\nabla_{w} Q(w_{k}) \\approx \\dfrac{1}{|B|}\\sum\\limits_{i \\in B}\\nabla_{w} q_{i}(w_{k}),\n",
    "$$\n",
    "где $B$ - это случайно выбранное подмножество индексов.\n",
    "\n",
    "В этом случае мы получим метод **стохастического градиентного спуска**."
   ]
  },
  {
   "cell_type": "markdown",
   "metadata": {},
   "source": [
    "### Задание 1.3. Стохастический градиентный спуск StochasticDescent (0.5 балла).\n",
    "\n",
    "Реализуйте стохастический градиентный спуск заполнив пропуски в классе `StochasticDescent`. Для оценки градиента используйте формулу выше (среднее градиентов случайно выбранного батча объектов). Шаг оптимизации:\n",
    "\n",
    "$$\n",
    "    w_{k + 1} = w_{k} - \\eta_{k} \\dfrac{1}{|B|}\\sum\\limits_{i \\in B}\\nabla_{w} q_{i}(w_{k}).\n",
    "$$\n",
    "\n",
    "Размер батча будет являться гиперпараметром метода, семплируйте индексы для батча объектов с помощью `np.random.randint`."
   ]
  },
  {
   "cell_type": "markdown",
   "metadata": {},
   "source": [
    "ID contest 55538754"
   ]
  },
  {
   "cell_type": "markdown",
   "metadata": {},
   "source": [
    "### Лирическое-теоретическое отступление № 4\n",
    "\n",
    "Может оказаться, что направление антиградиента сильно меняется от шага к шагу. Например, если линии уровня функционала сильно вытянуты, то из-за ортогональности градиента линиям уровня он будет менять направление на почти противоположное на каждом шаге. Такие осцилляции будут вносить сильный шум в движение, и процесс оптимизации займёт много итераций. Чтобы избежать этого, можно усреднять векторы антиградиента с нескольких предыдущих шагов &ndash; в этом случае шум уменьшится, и такой средний вектор будет указывать в сторону общего направления движения. Введём для этого вектор инерции:\n",
    "\n",
    "\\begin{align}\n",
    "    &h_0 = 0, \\\\\n",
    "    &h_{k + 1} = \\alpha h_{k} + \\eta_k \\nabla_w Q(w_{k})\n",
    "\\end{align}\n",
    "\n",
    "Здесь $\\alpha$ &ndash; параметр метода, определяющей скорость затухания градиентов с предыдущих шагов. Разумеется, вместо вектора градиента может быть использована его аппроксимация. Чтобы сделать шаг градиентного спуска, просто сдвинем предыдущую точку на вектор инерции:\n",
    "\n",
    "$$\n",
    "    w_{k + 1} = w_{k} - h_{k + 1}.\n",
    "$$\n",
    "\n",
    "Заметим, что если по какой-то координате градиент постоянно меняет знак, то в результате усреднения градиентов в векторе инерции эта координата окажется близкой к нулю. Если же по координате знак градиента всегда одинаковый, то величина соответствующей координаты в векторе инерции будет большой, и мы будем делать большие шаги в соответствующем направлении."
   ]
  },
  {
   "cell_type": "markdown",
   "metadata": {},
   "source": [
    "### Задание 1.4 Метод Momentum MomentumDescent (0.5 балла).\n",
    "\n",
    "Реализуйте градиентный спуск с методом инерции заполнив пропуски в классе `MomentumDescent`. Шаг оптимизации:\n",
    "\n",
    "\\begin{align}\n",
    "    &h_0 = 0, \\\\\n",
    "    &h_{k + 1} = \\alpha h_{k} + \\eta_k \\nabla_w Q(w_{k}) \\\\\n",
    "    &w_{k + 1} = w_{k} - h_{k + 1}.\n",
    "\\end{align}\n",
    "\n",
    "$\\alpha$ будет являться гиперпараметром метода, но в данном домашнем задании мы зафиксируем её за вас $\\alpha = 0.9$."
   ]
  },
  {
   "cell_type": "markdown",
   "metadata": {},
   "source": [
    "ID contest 55540066"
   ]
  },
  {
   "cell_type": "markdown",
   "metadata": {},
   "source": [
    "### Лирическое-теоретическое отступление № 5\n",
    "\n",
    "Градиентный спуск очень чувствителен к выбору длины шага. Если шаг большой, то есть риск, что мы будем перескакивать через точку минимума; если же шаг маленький, то для нахождения минимума потребуется много итераций. При этом нет способов заранее определить правильный размер шага &ndash; к тому же, схемы с постепенным уменьшением шага по мере итераций могут тоже плохо работать.\n",
    "\n",
    "В методе AdaGrad предлагается сделать свою длину шага для каждой компоненты вектора параметров. При этом шаг будет тем меньше, чем более длинные шаги мы делали на предыдущих итерациях:\n",
    "\n",
    "\\begin{align}\n",
    "    &G_{kj} = G_{k-1,j} + (\\nabla_w Q(w_{k - 1}))_j^2; \\\\\n",
    "    &w_{jk} = w_{j,k-1} - \\frac{\\eta_t}{\\sqrt{G_{kj}} + \\varepsilon} (\\nabla_w Q(w_{k - 1}))_j.\n",
    "\\end{align}\n",
    "\n",
    "Здесь $\\varepsilon$ небольшая константа, которая предотвращает деление на ноль.\n",
    "\n",
    "В данном методе можно зафксировать длину шага (например, $\\eta_k = 0.01$) и не подбирать её в процессе обучения. Отметим, что данный метод подходит для разреженных задач, в которых у каждого объекта большинство признаков равны нулю. Для признаков, у которых ненулевые значения встречаются редко, будут делаться большие шаги; если же какой-то признак часто является ненулевым, то шаги по нему будут небольшими.\n",
    "\n",
    "У метода AdaGrad есть большой недостаток: переменная $G_{kj}$ монотонно растёт, из-за чего шаги становятся всё медленнее и могут остановиться ещё до того, как достигнут минимум функционала. Проблема решается в методе RMSprop, где используется экспоненциальное затухание градиентов:\n",
    "\n",
    "$$\n",
    "    G_{kj} = \\alpha G_{k-1,j} + (1 - \\alpha) (\\nabla_w Q(w^{(k-1)}))_j^2.\n",
    "$$\n",
    "\n",
    "В этом случае размер шага по координате зависит в основном от того, насколько\n",
    "быстро мы двигались по ней на последних итерациях.\n",
    "\n",
    "Можно объединить идеи описанных выше методов: накапливать градиенты со всех прошлых шагов для\n",
    "избежания осцилляций и делать адаптивную длину шага по каждому параметру."
   ]
  },
  {
   "cell_type": "markdown",
   "metadata": {},
   "source": [
    "### Задание 1.5. Метод Adam (Adaptive Moment Estimation) (1.5 балла).\n",
    "\n",
    "![](adam.jpg)\n",
    "\n",
    "Реализуйте градиентный спуск с методом Adam заполнив пропуски в классе `Adam`. Шаг оптимизации:\n",
    "\n",
    "\\begin{align}\n",
    "    &m_0 = 0, \\quad v_0 = 0; \\\\ \\\\\n",
    "    &m_{k + 1} = \\beta_1 m_k + (1 - \\beta_1) \\nabla_w Q(w_{k}); \\\\ \\\\\n",
    "    &v_{k + 1} = \\beta_2 v_k + (1 - \\beta_2) \\left(\\nabla_w Q(w_{k})\\right)^2; \\\\ \\\\\n",
    "    &\\widehat{m}_{k} = \\dfrac{m_k}{1 - \\beta_1^{k}}, \\quad \\widehat{v}_{k} = \\dfrac{v_k}{1 - \\beta_2^{k}}; \\\\ \\\\\n",
    "    &w_{k + 1} = w_{k} - \\dfrac{\\eta_k}{\\sqrt{\\widehat{v}_{k + 1}} + \\varepsilon} \\widehat{m}_{k + 1}.\n",
    "\\end{align}\n",
    "\n",
    "$\\beta_1 = 0.9, \\beta_2 = 0.999$ и $\\varepsilon = 10^{-8}$ будут зафиксированы за вас."
   ]
  },
  {
   "cell_type": "markdown",
   "metadata": {},
   "source": [
    "ID contest 55541243"
   ]
  },
  {
   "cell_type": "markdown",
   "metadata": {},
   "source": [
    "## Задание 2. Реализация линейной регресии (0.5 балла)\n",
    "\n",
    "В этом задании вам предстоит написать свою реализацию линейной регресии, обучаемой с использованием градиентного спуска, с опорой на подготовленные шаблоны в файле `linear_regression.py` - **LinearRegression**. По сути линейная регрессия будет оберткой, которая запускает обучение \n",
    "\n",
    "Необходимо соблюдать следующие условия:\n",
    "\n",
    "* Все вычисления должны быть векторизованы;\n",
    "* Циклы средствами python допускаются только для итераций градиентного спуска;\n",
    "* В качестве критерия останова необходимо использовать (одновременно):\n",
    "    * Квадрат евклидовой нормы разности весов на двух соседних итерациях меньше `tolerance`;\n",
    "    * Разность весов содержит наны;\n",
    "    * Достижение максимального числа итераций `max_iter`.\n",
    "* Будем считать, что все данные, которые поступают на вход имеют столбец единичек последним столбцом;\n",
    "* Чтобы проследить за сходимостью оптимизационного процесса будем использовать `loss_history`, в нём будем хранить значения функции потерь до каждого шага, начиная с нулевого (до первого шага по антиградиенту) и значение функции потерь после оптимизации."
   ]
  },
  {
   "cell_type": "markdown",
   "metadata": {},
   "source": [
    "## Задание 3. Проверка кода (0 баллов)"
   ]
  },
  {
   "cell_type": "code",
   "execution_count": 1,
   "metadata": {},
   "outputs": [],
   "source": [
    "%load_ext autoreload"
   ]
  },
  {
   "cell_type": "code",
   "execution_count": 2,
   "metadata": {},
   "outputs": [],
   "source": [
    "%autoreload 2\n",
    "\n",
    "import numpy as np\n",
    "\n",
    "from descents import get_descent\n",
    "from linear_regression import LinearRegression"
   ]
  },
  {
   "cell_type": "code",
   "execution_count": 3,
   "metadata": {},
   "outputs": [],
   "source": [
    "num_objects = 100\n",
    "dimension = 5\n",
    "\n",
    "x = np.random.rand(num_objects, dimension)\n",
    "y = np.random.rand(num_objects)"
   ]
  },
  {
   "cell_type": "code",
   "execution_count": 4,
   "metadata": {},
   "outputs": [],
   "source": [
    "# Descents\n",
    "\n",
    "descent_config = {\n",
    "    'descent_name': 'some name that we will replace in the future',\n",
    "    'kwargs': {\n",
    "        'dimension': dimension\n",
    "    }\n",
    "}\n",
    "\n",
    "for descent_name in ['full', 'stochastic', 'momentum', 'adam']:\n",
    "    descent_config['descent_name'] = descent_name\n",
    "    descent = get_descent(descent_config)\n",
    "\n",
    "    diff = descent.step(x, y)\n",
    "    gradient = descent.calc_gradient(x, y)\n",
    "    predictions = descent.predict(x)\n",
    "\n",
    "    assert gradient.shape[0] == dimension, f'Gradient failed for descent {descent_name}'\n",
    "    assert diff.shape[0] == dimension, f'Weights failed for descent {descent_name}'\n",
    "    assert predictions.shape == y.shape, f'Prediction failed for descent {descent_name}'"
   ]
  },
  {
   "cell_type": "code",
   "execution_count": 5,
   "metadata": {},
   "outputs": [],
   "source": [
    "# LinearRegression\n",
    "\n",
    "max_iter = 10\n",
    "tolerance = 0\n",
    "\n",
    "descent_config = {\n",
    "    'descent_name': 'stochastic',\n",
    "    'kwargs': {\n",
    "        'dimension': dimension,\n",
    "        'batch_size': 10\n",
    "    }\n",
    "}\n",
    "\n",
    "regression = LinearRegression(\n",
    "    descent_config=descent_config,\n",
    "    tolerance=tolerance,\n",
    "    max_iter=max_iter\n",
    ")\n",
    "\n",
    "regression.fit(x, y)\n",
    "\n",
    "assert len(regression.loss_history) == max_iter + 1, 'Loss history failed'"
   ]
  },
  {
   "cell_type": "markdown",
   "metadata": {},
   "source": [
    "Если ваше решение прошло все тесты локально, то теперь пришло время протестировать его в [Яндекс Контесте](https://contest.yandex.ru/contest/29933/enter/).\n",
    "\n",
    "Для каждой задачи из контеста вставьте ссылку на успешную посылку:\n",
    "\n",
    "* **VanillaGradientDescent**:\n",
    "\n",
    "\n",
    "* **StochasticDescent**:\n",
    "\n",
    "\n",
    "* **MomentumDescent**:\n",
    "\n",
    "\n",
    "* **Adam**:\n",
    "\n",
    "\n",
    "* **LinearRegression**:"
   ]
  },
  {
   "cell_type": "markdown",
   "metadata": {},
   "source": [
    "## Задание 4. Работа с данными (1 балл)\n",
    "\n",
    "Мы будем использовать датасет объявлений по продаже машин на немецком Ebay. В задаче предсказания целевой переменной для нас будет являться цена."
   ]
  },
  {
   "cell_type": "markdown",
   "metadata": {},
   "source": [
    "* Постройте график распределения целевой переменной в данных, подумайте, нужно ли заменить её на логарифм. Присутствуют ли выбросы в данных с аномальной ценой? Если да, то удалите их из данных.\n",
    "\n",
    "* Проведите исследование данных:\n",
    "    * Проанализируйте тип столбцов, постройте графики зависимости целевой переменной от признака, распределения значений признака;\n",
    "    * Подумайте, какие признаки могут быть полезными на основе этих графиков, обработайте выбросы;\n",
    "    * Подумайте, какие трансформации признаков из известных вам будет уместно применить;\n",
    "    * Разделите полезные признаки на категориальные, вещественные и те, которые не надо предобрабатывать.\n",
    "* Разделите данные на обучающую, валидационную и тестовую выборки в отношении 8:1:1."
   ]
  },
  {
   "cell_type": "code",
   "execution_count": 6,
   "metadata": {},
   "outputs": [],
   "source": [
    "import numpy as np\n",
    "import pandas as pd\n",
    "\n",
    "import matplotlib.pyplot as plt\n",
    "import seaborn as sns\n",
    "\n",
    "from descents import get_descent\n",
    "from linear_regression import LinearRegression\n",
    "\n",
    "sns.set(style='darkgrid')"
   ]
  },
  {
   "cell_type": "code",
   "execution_count": 8,
   "metadata": {},
   "outputs": [],
   "source": [
    "data = pd.read_csv('autos.csv')"
   ]
  },
  {
   "cell_type": "code",
   "execution_count": 9,
   "metadata": {},
   "outputs": [
    {
     "data": {
      "text/html": [
       "<div>\n",
       "<style scoped>\n",
       "    .dataframe tbody tr th:only-of-type {\n",
       "        vertical-align: middle;\n",
       "    }\n",
       "\n",
       "    .dataframe tbody tr th {\n",
       "        vertical-align: top;\n",
       "    }\n",
       "\n",
       "    .dataframe thead th {\n",
       "        text-align: right;\n",
       "    }\n",
       "</style>\n",
       "<table border=\"1\" class=\"dataframe\">\n",
       "  <thead>\n",
       "    <tr style=\"text-align: right;\">\n",
       "      <th></th>\n",
       "      <th>brand</th>\n",
       "      <th>model</th>\n",
       "      <th>vehicleType</th>\n",
       "      <th>gearbox</th>\n",
       "      <th>fuelType</th>\n",
       "      <th>notRepairedDamage</th>\n",
       "      <th>powerPS</th>\n",
       "      <th>kilometer</th>\n",
       "      <th>autoAgeMonths</th>\n",
       "      <th>price</th>\n",
       "    </tr>\n",
       "  </thead>\n",
       "  <tbody>\n",
       "    <tr>\n",
       "      <td>0</td>\n",
       "      <td>volkswagen</td>\n",
       "      <td>golf</td>\n",
       "      <td>kleinwagen</td>\n",
       "      <td>manuell</td>\n",
       "      <td>benzin</td>\n",
       "      <td>nein</td>\n",
       "      <td>75</td>\n",
       "      <td>150000</td>\n",
       "      <td>177</td>\n",
       "      <td>1500</td>\n",
       "    </tr>\n",
       "    <tr>\n",
       "      <td>1</td>\n",
       "      <td>skoda</td>\n",
       "      <td>fabia</td>\n",
       "      <td>kleinwagen</td>\n",
       "      <td>manuell</td>\n",
       "      <td>diesel</td>\n",
       "      <td>nein</td>\n",
       "      <td>69</td>\n",
       "      <td>90000</td>\n",
       "      <td>93</td>\n",
       "      <td>3600</td>\n",
       "    </tr>\n",
       "    <tr>\n",
       "      <td>2</td>\n",
       "      <td>bmw</td>\n",
       "      <td>3er</td>\n",
       "      <td>limousine</td>\n",
       "      <td>manuell</td>\n",
       "      <td>benzin</td>\n",
       "      <td>ja</td>\n",
       "      <td>102</td>\n",
       "      <td>150000</td>\n",
       "      <td>246</td>\n",
       "      <td>650</td>\n",
       "    </tr>\n",
       "    <tr>\n",
       "      <td>3</td>\n",
       "      <td>peugeot</td>\n",
       "      <td>2_reihe</td>\n",
       "      <td>cabrio</td>\n",
       "      <td>manuell</td>\n",
       "      <td>benzin</td>\n",
       "      <td>nein</td>\n",
       "      <td>109</td>\n",
       "      <td>150000</td>\n",
       "      <td>140</td>\n",
       "      <td>2200</td>\n",
       "    </tr>\n",
       "    <tr>\n",
       "      <td>4</td>\n",
       "      <td>mazda</td>\n",
       "      <td>3_reihe</td>\n",
       "      <td>limousine</td>\n",
       "      <td>manuell</td>\n",
       "      <td>benzin</td>\n",
       "      <td>nein</td>\n",
       "      <td>105</td>\n",
       "      <td>150000</td>\n",
       "      <td>136</td>\n",
       "      <td>2000</td>\n",
       "    </tr>\n",
       "  </tbody>\n",
       "</table>\n",
       "</div>"
      ],
      "text/plain": [
       "        brand    model vehicleType  gearbox fuelType notRepairedDamage  \\\n",
       "0  volkswagen     golf  kleinwagen  manuell   benzin              nein   \n",
       "1       skoda    fabia  kleinwagen  manuell   diesel              nein   \n",
       "2         bmw      3er   limousine  manuell   benzin                ja   \n",
       "3     peugeot  2_reihe      cabrio  manuell   benzin              nein   \n",
       "4       mazda  3_reihe   limousine  manuell   benzin              nein   \n",
       "\n",
       "   powerPS  kilometer  autoAgeMonths  price  \n",
       "0       75     150000            177   1500  \n",
       "1       69      90000             93   3600  \n",
       "2      102     150000            246    650  \n",
       "3      109     150000            140   2200  \n",
       "4      105     150000            136   2000  "
      ]
     },
     "execution_count": 9,
     "metadata": {},
     "output_type": "execute_result"
    }
   ],
   "source": [
    "data.head()"
   ]
  },
  {
   "cell_type": "markdown",
   "metadata": {},
   "source": [
    "Колонки в данных:\n",
    "\n",
    "* `brand` - название бренда автомобиля\n",
    "* `model` - название модели автомобиля\n",
    "* `vehicleType` - тип транспортного средства\n",
    "* `gearbox` - тип трансмисcии\n",
    "* `fuelType` - какой вид топлива использует автомобиль\n",
    "* `notRepairedDamage` - есть ли в автомобиле неисправность, которая еще не устранена\n",
    "* `powerPS` - мощность автомобиля в PS (метрическая лошадиная сила)\n",
    "* `kilometer` - сколько километров проехал автомобиль, пробег\n",
    "* `autoAgeMonths` - возраст автомобиля в месяцах\n",
    "\n",
    "\n",
    "* `price` - цена, указанная в объявлении о продаже автомобиля (целевая переменная)"
   ]
  },
  {
   "cell_type": "code",
   "execution_count": 11,
   "metadata": {},
   "outputs": [],
   "source": [
    "categorical = []\n",
    "numeric = []\n",
    "other = []\n",
    "\n",
    "# YOUR CODE (EDA):"
   ]
  },
  {
   "cell_type": "code",
   "execution_count": 12,
   "metadata": {},
   "outputs": [
    {
     "data": {
      "image/png": "[encoded data removed]",
      "text/plain": [
       "<Figure size 1080x720 with 1 Axes>"
      ]
     },
     "metadata": {
      "needs_background": "light"
     },
     "output_type": "display_data"
    }
   ],
   "source": [
    "plt.figure(figsize=(15, 10))\n",
    "plt.title(\"Распределение цены\", size=20)\n",
    "price_distplot = sns.distplot(data.price)"
   ]
  },
  {
   "cell_type": "code",
   "execution_count": null,
   "metadata": {},
   "outputs": [],
   "source": [
    "data['bias'] = 1\n",
    "other += ['bias']\n",
    "\n",
    "x = data[categorical + numeric + other]\n",
    "y = data['price']"
   ]
  },
  {
   "cell_type": "code",
   "execution_count": null,
   "metadata": {},
   "outputs": [],
   "source": [
    "from sklearn.compose import ColumnTransformer\n",
    "from sklearn.preprocessing import OneHotEncoder\n",
    "from sklearn.preprocessing import StandardScaler\n",
    "\n",
    "\n",
    "column_transformer = ColumnTransformer([\n",
    "    ('ohe', OneHotEncoder(handle_unknown='ignore'), categorical),\n",
    "    ('scaling', StandardScaler(), numeric),\n",
    "    ('other',  'passthrough', other)\n",
    "])\n",
    "\n",
    "x = column_transformer.fit_transform(x)"
   ]
  }
 ],
 "metadata": {
  "kernelspec": {
   "display_name": "Python 3 (ipykernel)",
   "language": "python",
   "name": "python3"
  },
  "language_info": {
   "codemirror_mode": {
    "name": "ipython",
    "version": 3
   },
   "file_extension": ".py",
   "mimetype": "text/x-python",
   "name": "python",
   "nbconvert_exporter": "python",
   "pygments_lexer": "ipython3",
   "version": "3.9.5"
  }
 },
 "nbformat": 4,
 "nbformat_minor": 4
}
